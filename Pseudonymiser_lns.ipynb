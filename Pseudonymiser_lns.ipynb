{
 "cells": [
  {
   "cell_type": "code",
   "execution_count": null,
   "metadata": {},
   "outputs": [],
   "source": [
    "# import packages\n",
    "\n",
    "import pandas as pd\n",
    "import boto3\n",
    "import numpy as np\n",
    "from sklearn import preprocessing\n"
   ]
  },
  {
   "cell_type": "code",
   "execution_count": null,
   "metadata": {},
   "outputs": [],
   "source": [
    "# Read the CSV with pandas\n",
    "\n",
    "lns = pd.read_csv('s3://xxxxxxx/lns.csv')"
   ]
  },
  {
   "cell_type": "code",
   "execution_count": null,
   "metadata": {},
   "outputs": [],
   "source": [
    "# Assign unique id to each row\n",
    "\n",
    "lns['unique_id'] = np.arange(0,len(lns))\n",
    "\n",
    "lns.to_csv('s3://xxxxxxxxxxx/lns.csv')\n",
    "\n",
    "lns"
   ]
  },
  {
   "cell_type": "code",
   "execution_count": null,
   "metadata": {},
   "outputs": [],
   "source": [
    "# Define Label Encoder - label encoder is used to make pseudonyms.\n",
    "le = preprocessing.LabelEncoder()\n",
    "\n",
    "# Create Pseudonym column for ANum\n",
    "lns['ANUM_PSEUD'] = le.fit_transform(lns['ANUMBER'])\n",
    "lns['ANUM_PSEUD'] = lns['ANUM_PSEUD'].astype(str) + '_A_NUM'\n",
    "\n",
    "# Create pseud col for Ref num\n",
    "\n",
    "lns['REFNUM_PSEUD'] = le.fit_transform(lns['REFNUM'])\n",
    "lns['REFNUM'] = lns['REFNUM_PSEUD'].astype(str) + '_REFNUM'\n",
    "\n",
    "# Create Pseud col for CSL Name\n",
    "\n",
    "lns['CSL_NAME_PSEUD'] = le.fit_transform(lns['CSL_NAME'])\n",
    "lns['CSL_NAME_PSEUD'] = lns['CSL_NAME_PSEUD'].astype(str) + '_CSL_NAME'\n",
    "\n",
    "# Create pseud col for C_Name\n",
    "\n",
    "lns['C_NAME_PSEUD'] = le.fit_transform(lns['C_NAME'])\n",
    "lns['C_NAME_PSEUD'] = lns['C_NAME_PSEUD'].astype(str) + '_C_NAME'\n",
    "\n",
    "# Create Pseud for I_A_Num\n",
    "\n",
    "lns['I_ANUM_PSEUD'] = le.fit_transform(lns['I_A_NUMBER'])\n",
    "lns['I_ANUM_PSEUD'] = lns['I_ANUM_PSEUD'].astype(str) + 'I_ANUM'\n"
   ]
  },
  {
   "cell_type": "code",
   "execution_count": null,
   "metadata": {},
   "outputs": [],
   "source": [
    "# Export 2 CSVs - one with the sensitive info, and one without\n",
    "\n",
    "# csv 1 - sensitive\n",
    "\n",
    "senslns = lns.to_csv(index = False)\n",
    "\n",
    "s3 = boto3.resource('s3')\n",
    "s3.Object('alpha-app-laa-fas-qc-dsa', 'SENSITIVE_lns.csv').put(Body=senslns)"
   ]
  },
  {
   "cell_type": "code",
   "execution_count": null,
   "metadata": {},
   "outputs": [],
   "source": [
    "# CSV 2 - pseudonymised - sensitive columns dropped\n",
    "\n",
    "pseudlns = lns.drop(columns=['ANUMBER', 'ONAME', 'LANUMBER','FNAME', 'REFNUM',\n",
    "                     'I_A_NUMBER', 'IO_NAME', 'CODE', 'C_USER_NAME','C_NAME'])\n",
    "\n",
    "# Convert dataframe to csv\n",
    "\n",
    "pseudlns = pseudlns.to_csv(index=False)\n",
    "\n",
    "# Save CSV to Amazon S3 Cloud\n",
    "\n",
    "s3.Object('xxxxxxxxxxxxxxxxxxx', 'Pseud_lns.csv').put(Body=pseudlns)"
   ]
  }
 ],
 "metadata": {
  "kernelspec": {
   "display_name": "Python 3 (ipykernel)",
   "language": "python",
   "name": "python3"
  },
  "language_info": {
   "codemirror_mode": {
    "name": "ipython",
    "version": 3
   },
   "file_extension": ".py",
   "mimetype": "text/x-python",
   "name": "python",
   "nbconvert_exporter": "python",
   "pygments_lexer": "ipython3",
   "version": "3.9.7"
  }
 },
 "nbformat": 4,
 "nbformat_minor": 4
}
